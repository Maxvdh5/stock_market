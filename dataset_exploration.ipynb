{
 "cells": [
  {
   "cell_type": "markdown",
   "metadata": {
    "collapsed": true,
    "pycharm": {
     "name": "#%% md\n"
    }
   },
   "source": [
    "This notebook wil explore the [dataset](data/cmd_avans_survey.xlsx).\n",
    "The dataset contains multiple-choice answers on numerous miscellaneous questions about the lives of students, mainly CMD students.\n",
    "\n",
    "The end goal is to create a (sort of) recommender system that helps people with \"corona downness\"\n",
    "\n",
    "\n",
    "In order to do that we will create categories (profiles) of human behaviour, so it is easier to give advice\n",
    "\n",
    "In this notebook we will explore the dataset and select the columns that we think are relevant factors of \"corona downness\""
   ]
  },
  {
   "cell_type": "code",
   "execution_count": 1096,
   "outputs": [],
   "source": [
    "import numpy as np\n",
    "import pandas as pd\n",
    "import matplotlib.pyplot as plt\n",
    "import seaborn as sns"
   ],
   "metadata": {
    "collapsed": false,
    "pycharm": {
     "name": "#%%\n"
    }
   }
  },
  {
   "cell_type": "code",
   "execution_count": 1097,
   "outputs": [
    {
     "data": {
      "text/plain": "  geslacht Vind je jezelf makkelijk beïnvloedbaar door de media?2  \\\n0      Man                                                nee       \n1    Vrouw                                                nee       \n2    Vrouw                                                nee       \n3    Vrouw                                                nee       \n4      Man                                                nee       \n\n  Wat is je politieke voorkeur? Welke social media gebruikt je het meest?  \\\n0                         Links                                  whatsapp   \n1                  Weet ik niet                                  whatsapp   \n2                        Rechts                                 instagram   \n3                         Links                                 instagram   \n4                  Weet ik niet                                 instagram   \n\n   Vraag4  \\\n0     NaN   \n1     NaN   \n2     NaN   \n3     NaN   \n4     NaN   \n\n   In hoeverre is de volgende stelling bij jou van toepassing: \"Sociale media kan mij onzeker maken.\" \\n1 ster is niet van toepassing, 5 sterren heel erg van toepassing  \\\n0                                                  3                                                                                                                       \n1                                                  3                                                                                                                       \n2                                                  5                                                                                                                       \n3                                                  3                                                                                                                       \n4                                                  3                                                                                                                       \n\n  Voordat je iets plaatst op social media denk je dan na wat mensen van je zullen denken?  \\\n0                                                Nee                                        \n1                                                 Ja                                        \n2                                                 Ja                                        \n3                                                 Ja                                        \n4                                                 Ja                                        \n\n  Hoe vaak bob je gemiddeld in de maand, als je uitgaat met je vrienden?3  \\\n0                                                  1                        \n1                                                  2                        \n2                                                  0                        \n3                                                  1                        \n4                                                  0                        \n\n  Hoeveel glazen alcohol drink je gemiddeld per week?  \\\n0                                                 6+    \n1                                                0-3    \n2                                                0-3    \n3                                                 6+    \n4                                                 6+    \n\n  Hou je meer van pils of speciaalbier?  ...  \\\n0                          Speciaalbier  ...   \n1                 Ik houd niet van bier  ...   \n2                          Speciaalbier  ...   \n3                          Speciaalbier  ...   \n4                          Speciaalbier  ...   \n\n  Hoe eigenwijs ben jij op schaal van 1 tot 5? (1 is helemaal niet, 5 is heel erg)  \\\n0                                                  4                                 \n1                                                  3                                 \n2                                                  5                                 \n3                                                  3                                 \n4                                                  3                                 \n\n  ben je een aanwezig persoon? of erg rustig?  Hoe werk jij het liefst?  \\\n0                                    Aanwezig                    Alleen   \n1                                       Matig                    Alleen   \n2                                       Matig                    Alleen   \n3                                 Heel rustig                Tweetallen   \n4                                    Aanwezig                    Alleen   \n\n  ben je een open of gesloten persoon? ben je een nieuwsgierig persoon?  \\\n0                                Matig                 Erg nieuwsgierig   \n1                                Matig                            Matig   \n2                             Gesloten                 Erg nieuwsgierig   \n3                                Matig                            Matig   \n4                             Erg open                 Erg nieuwsgierig   \n\n   Ben je een zachtaardig, of een fel persoon?  \\\n0                                  Zachtaardig   \n1                                        Matig   \n2                                          Fel   \n3                                  Zachtaardig   \n4                                        Matig   \n\n  Houdt je van vernieuwing? (leefomgeving, mensen, werk, school, etc.)  \\\n0                                                 Ja                     \n1                                                Nee                     \n2                                                Nee                     \n3                                                 Ja                     \n4                                                 Ja                     \n\n  Hoe onzeker ben jij, op schaal van 1 tot 5?  \\\n0                                           3   \n1                                           4   \n2                                           4   \n3                                           4   \n4                                           3   \n\n  Vind je het eng/vervelend om in een groep aan het woord te zijn?  \\\n0                                                Nee                 \n1                                                 Ja                 \n2                                                 Ja                 \n3                                                 Ja                 \n4                                                Nee                 \n\n  Hoe stress gevoelig ben je op schaal van 1 tot 5?2  \n0                                                  2  \n1                                                  3  \n2                                                  5  \n3                                                  3  \n4                                                  2  \n\n[5 rows x 124 columns]",
      "text/html": "<div>\n<style scoped>\n    .dataframe tbody tr th:only-of-type {\n        vertical-align: middle;\n    }\n\n    .dataframe tbody tr th {\n        vertical-align: top;\n    }\n\n    .dataframe thead th {\n        text-align: right;\n    }\n</style>\n<table border=\"1\" class=\"dataframe\">\n  <thead>\n    <tr style=\"text-align: right;\">\n      <th></th>\n      <th>geslacht</th>\n      <th>Vind je jezelf makkelijk beïnvloedbaar door de media?2</th>\n      <th>Wat is je politieke voorkeur?</th>\n      <th>Welke social media gebruikt je het meest?</th>\n      <th>Vraag4</th>\n      <th>In hoeverre is de volgende stelling bij jou van toepassing: \"Sociale media kan mij onzeker maken.\" \\n1 ster is niet van toepassing, 5 sterren heel erg van toepassing</th>\n      <th>Voordat je iets plaatst op social media denk je dan na wat mensen van je zullen denken?</th>\n      <th>Hoe vaak bob je gemiddeld in de maand, als je uitgaat met je vrienden?3</th>\n      <th>Hoeveel glazen alcohol drink je gemiddeld per week?</th>\n      <th>Hou je meer van pils of speciaalbier?</th>\n      <th>...</th>\n      <th>Hoe eigenwijs ben jij op schaal van 1 tot 5? (1 is helemaal niet, 5 is heel erg)</th>\n      <th>ben je een aanwezig persoon? of erg rustig?</th>\n      <th>Hoe werk jij het liefst?</th>\n      <th>ben je een open of gesloten persoon?</th>\n      <th>ben je een nieuwsgierig persoon?</th>\n      <th>Ben je een zachtaardig, of een fel persoon?</th>\n      <th>Houdt je van vernieuwing? (leefomgeving, mensen, werk, school, etc.)</th>\n      <th>Hoe onzeker ben jij, op schaal van 1 tot 5?</th>\n      <th>Vind je het eng/vervelend om in een groep aan het woord te zijn?</th>\n      <th>Hoe stress gevoelig ben je op schaal van 1 tot 5?2</th>\n    </tr>\n  </thead>\n  <tbody>\n    <tr>\n      <th>0</th>\n      <td>Man</td>\n      <td>nee</td>\n      <td>Links</td>\n      <td>whatsapp</td>\n      <td>NaN</td>\n      <td>3</td>\n      <td>Nee</td>\n      <td>1</td>\n      <td>6+</td>\n      <td>Speciaalbier</td>\n      <td>...</td>\n      <td>4</td>\n      <td>Aanwezig</td>\n      <td>Alleen</td>\n      <td>Matig</td>\n      <td>Erg nieuwsgierig</td>\n      <td>Zachtaardig</td>\n      <td>Ja</td>\n      <td>3</td>\n      <td>Nee</td>\n      <td>2</td>\n    </tr>\n    <tr>\n      <th>1</th>\n      <td>Vrouw</td>\n      <td>nee</td>\n      <td>Weet ik niet</td>\n      <td>whatsapp</td>\n      <td>NaN</td>\n      <td>3</td>\n      <td>Ja</td>\n      <td>2</td>\n      <td>0-3</td>\n      <td>Ik houd niet van bier</td>\n      <td>...</td>\n      <td>3</td>\n      <td>Matig</td>\n      <td>Alleen</td>\n      <td>Matig</td>\n      <td>Matig</td>\n      <td>Matig</td>\n      <td>Nee</td>\n      <td>4</td>\n      <td>Ja</td>\n      <td>3</td>\n    </tr>\n    <tr>\n      <th>2</th>\n      <td>Vrouw</td>\n      <td>nee</td>\n      <td>Rechts</td>\n      <td>instagram</td>\n      <td>NaN</td>\n      <td>5</td>\n      <td>Ja</td>\n      <td>0</td>\n      <td>0-3</td>\n      <td>Speciaalbier</td>\n      <td>...</td>\n      <td>5</td>\n      <td>Matig</td>\n      <td>Alleen</td>\n      <td>Gesloten</td>\n      <td>Erg nieuwsgierig</td>\n      <td>Fel</td>\n      <td>Nee</td>\n      <td>4</td>\n      <td>Ja</td>\n      <td>5</td>\n    </tr>\n    <tr>\n      <th>3</th>\n      <td>Vrouw</td>\n      <td>nee</td>\n      <td>Links</td>\n      <td>instagram</td>\n      <td>NaN</td>\n      <td>3</td>\n      <td>Ja</td>\n      <td>1</td>\n      <td>6+</td>\n      <td>Speciaalbier</td>\n      <td>...</td>\n      <td>3</td>\n      <td>Heel rustig</td>\n      <td>Tweetallen</td>\n      <td>Matig</td>\n      <td>Matig</td>\n      <td>Zachtaardig</td>\n      <td>Ja</td>\n      <td>4</td>\n      <td>Ja</td>\n      <td>3</td>\n    </tr>\n    <tr>\n      <th>4</th>\n      <td>Man</td>\n      <td>nee</td>\n      <td>Weet ik niet</td>\n      <td>instagram</td>\n      <td>NaN</td>\n      <td>3</td>\n      <td>Ja</td>\n      <td>0</td>\n      <td>6+</td>\n      <td>Speciaalbier</td>\n      <td>...</td>\n      <td>3</td>\n      <td>Aanwezig</td>\n      <td>Alleen</td>\n      <td>Erg open</td>\n      <td>Erg nieuwsgierig</td>\n      <td>Matig</td>\n      <td>Ja</td>\n      <td>3</td>\n      <td>Nee</td>\n      <td>2</td>\n    </tr>\n  </tbody>\n</table>\n<p>5 rows × 124 columns</p>\n</div>"
     },
     "execution_count": 1097,
     "metadata": {},
     "output_type": "execute_result"
    }
   ],
   "source": [
    "survey_pd = pd.read_excel(\"data/cmd_avans_survey.xlsx\", sheet_name=\"Form1\")\n",
    "survey_pd.head()"
   ],
   "metadata": {
    "collapsed": false,
    "pycharm": {
     "name": "#%%\n"
    }
   }
  },
  {
   "cell_type": "markdown",
   "source": [
    "before we select the columns we will use let's drop all the rows we really don't want to use"
   ],
   "metadata": {
    "collapsed": false,
    "pycharm": {
     "name": "#%% md\n"
    }
   }
  },
  {
   "cell_type": "code",
   "execution_count": 1098,
   "outputs": [],
   "source": [
    "def missing_values(df, percentage):\n",
    "\n",
    "    columns = df.columns\n",
    "    percent_missing = df.isnull().sum() * 100 / len(df)\n",
    "    missing_value_df = pd.DataFrame({'column_name': columns,\n",
    "                                 'percent_missing': percent_missing})\n",
    "\n",
    "    missing_drop = list(missing_value_df[missing_value_df.percent_missing>percentage].column_name)\n",
    "    df = df.drop(missing_drop, axis=1)\n",
    "    return df\n",
    "\n"
   ],
   "metadata": {
    "collapsed": false,
    "pycharm": {
     "name": "#%%\n"
    }
   }
  },
  {
   "cell_type": "code",
   "execution_count": 1099,
   "outputs": [],
   "source": [
    "# because we don't only want to address (CMD) students we drop all the school questions\n",
    "# we also drop all the columns that are irrelevant\n",
    "\n",
    "survey_pd = survey_pd.drop(columns=[\n",
    "    \"Heb jij je propedeuse in 1 jaar gehaald?\",\n",
    "    \"Heb je het gevoel dat je studievertraging oploopt door de corona maatregelen?\",\n",
    "    \"Hoe snel ben jij afgeleid tijdens de onlinelessen, op schaal van 1 tot 5?\",\n",
    "    \"Waar gebruik je het openbaar vervoer het meest voor?\",\n",
    "    \"Moet je ook overstappen tijdens je reis?\",\n",
    "    \"Waar maak jij graag je huiswerk?\",\n",
    "    \"In welk schooljaar zit je?\",\n",
    "    \"Heb je veel getwijfeld over je studie keuze?\",\n",
    "    \"Hoe goed past CMD bij jou, op schaal van 1 tot 5? (Als je geen CMD'er bent, vul dan 0 in)\",\n",
    "    \"Was je voor deze opleiding ook al veel creatief bezig?\",\n",
    "    \"heb je al een duidelijk plan voor na CMD?\",\n",
    "    \"heb je liever een theorie les, of een praktijk les?\",\n",
    "    \"In welke omgeving heb je het liefst les?\",\n",
    "    \"ben je tevreden met jouw school resultaten tot nu toe?\",\n",
    "    \"heeft jouw bijbaan invloed op je schoolprestaties?\",\n",
    "    \"Hoeveel lessen mis jij gemiddeld per maand?\",\n",
    "    \"Hoeveel minuten duurt jouw reis van thuis naar school ongeveer?\",\n",
    "    \"ga je met plezier naar je werk?\",\n",
    "    \"kan jij het goed vinden met je collega's?\",\n",
    "    \"Koop je wel eens bij de kringloop?\",\n",
    "    \"Als percentage (i.e. 0% - 100%), hoeveel van je totale maandinkomen geef je ongeveer uit aan dingen die je niet nodig hebt om te overleven?\"\n",
    "],)\n",
    "\n",
    "\n",
    "#'Stel jij je huiswerk veel uit?"
   ],
   "metadata": {
    "collapsed": false,
    "pycharm": {
     "name": "#%%\n"
    }
   }
  },
  {
   "cell_type": "code",
   "execution_count": 1100,
   "outputs": [
    {
     "data": {
      "text/plain": "  geslacht Vind je jezelf makkelijk beïnvloedbaar door de media?2  \\\n0      Man                                                nee       \n1    Vrouw                                                nee       \n2    Vrouw                                                nee       \n3    Vrouw                                                nee       \n4      Man                                                nee       \n\n  Wat is je politieke voorkeur? Welke social media gebruikt je het meest?  \\\n0                         Links                                  whatsapp   \n1                  Weet ik niet                                  whatsapp   \n2                        Rechts                                 instagram   \n3                         Links                                 instagram   \n4                  Weet ik niet                                 instagram   \n\n   In hoeverre is de volgende stelling bij jou van toepassing: \"Sociale media kan mij onzeker maken.\" \\n1 ster is niet van toepassing, 5 sterren heel erg van toepassing  \\\n0                                                  3                                                                                                                       \n1                                                  3                                                                                                                       \n2                                                  5                                                                                                                       \n3                                                  3                                                                                                                       \n4                                                  3                                                                                                                       \n\n  Voordat je iets plaatst op social media denk je dan na wat mensen van je zullen denken?  \\\n0                                                Nee                                        \n1                                                 Ja                                        \n2                                                 Ja                                        \n3                                                 Ja                                        \n4                                                 Ja                                        \n\n  Hoe vaak bob je gemiddeld in de maand, als je uitgaat met je vrienden?3  \\\n0                                                  1                        \n1                                                  2                        \n2                                                  0                        \n3                                                  1                        \n4                                                  0                        \n\n  Hoeveel glazen alcohol drink je gemiddeld per week?  \\\n0                                                 6+    \n1                                                0-3    \n2                                                0-3    \n3                                                 6+    \n4                                                 6+    \n\n  Hou je meer van pils of speciaalbier?  \\\n0                          Speciaalbier   \n1                 Ik houd niet van bier   \n2                          Speciaalbier   \n3                          Speciaalbier   \n4                          Speciaalbier   \n\n  Zou jij financieel onafhankelijk kunnen leven?  ...  \\\n0                                             Ja  ...   \n1                                            Nee  ...   \n2                                            Nee  ...   \n3                                            Nee  ...   \n4                                             Ja  ...   \n\n  Hoe eigenwijs ben jij op schaal van 1 tot 5? (1 is helemaal niet, 5 is heel erg)  \\\n0                                                  4                                 \n1                                                  3                                 \n2                                                  5                                 \n3                                                  3                                 \n4                                                  3                                 \n\n   ben je een aanwezig persoon? of erg rustig? Hoe werk jij het liefst?  \\\n0                                     Aanwezig                   Alleen   \n1                                        Matig                   Alleen   \n2                                        Matig                   Alleen   \n3                                  Heel rustig               Tweetallen   \n4                                     Aanwezig                   Alleen   \n\n  ben je een open of gesloten persoon?  ben je een nieuwsgierig persoon?  \\\n0                                Matig                  Erg nieuwsgierig   \n1                                Matig                             Matig   \n2                             Gesloten                  Erg nieuwsgierig   \n3                                Matig                             Matig   \n4                             Erg open                  Erg nieuwsgierig   \n\n  Ben je een zachtaardig, of een fel persoon?  \\\n0                                 Zachtaardig   \n1                                       Matig   \n2                                         Fel   \n3                                 Zachtaardig   \n4                                       Matig   \n\n  Houdt je van vernieuwing? (leefomgeving, mensen, werk, school, etc.)  \\\n0                                                 Ja                     \n1                                                Nee                     \n2                                                Nee                     \n3                                                 Ja                     \n4                                                 Ja                     \n\n  Hoe onzeker ben jij, op schaal van 1 tot 5?  \\\n0                                           3   \n1                                           4   \n2                                           4   \n3                                           4   \n4                                           3   \n\n  Vind je het eng/vervelend om in een groep aan het woord te zijn?  \\\n0                                                Nee                 \n1                                                 Ja                 \n2                                                 Ja                 \n3                                                 Ja                 \n4                                                Nee                 \n\n   Hoe stress gevoelig ben je op schaal van 1 tot 5?2  \n0                                                  2   \n1                                                  3   \n2                                                  5   \n3                                                  3   \n4                                                  2   \n\n[5 rows x 89 columns]",
      "text/html": "<div>\n<style scoped>\n    .dataframe tbody tr th:only-of-type {\n        vertical-align: middle;\n    }\n\n    .dataframe tbody tr th {\n        vertical-align: top;\n    }\n\n    .dataframe thead th {\n        text-align: right;\n    }\n</style>\n<table border=\"1\" class=\"dataframe\">\n  <thead>\n    <tr style=\"text-align: right;\">\n      <th></th>\n      <th>geslacht</th>\n      <th>Vind je jezelf makkelijk beïnvloedbaar door de media?2</th>\n      <th>Wat is je politieke voorkeur?</th>\n      <th>Welke social media gebruikt je het meest?</th>\n      <th>In hoeverre is de volgende stelling bij jou van toepassing: \"Sociale media kan mij onzeker maken.\" \\n1 ster is niet van toepassing, 5 sterren heel erg van toepassing</th>\n      <th>Voordat je iets plaatst op social media denk je dan na wat mensen van je zullen denken?</th>\n      <th>Hoe vaak bob je gemiddeld in de maand, als je uitgaat met je vrienden?3</th>\n      <th>Hoeveel glazen alcohol drink je gemiddeld per week?</th>\n      <th>Hou je meer van pils of speciaalbier?</th>\n      <th>Zou jij financieel onafhankelijk kunnen leven?</th>\n      <th>...</th>\n      <th>Hoe eigenwijs ben jij op schaal van 1 tot 5? (1 is helemaal niet, 5 is heel erg)</th>\n      <th>ben je een aanwezig persoon? of erg rustig?</th>\n      <th>Hoe werk jij het liefst?</th>\n      <th>ben je een open of gesloten persoon?</th>\n      <th>ben je een nieuwsgierig persoon?</th>\n      <th>Ben je een zachtaardig, of een fel persoon?</th>\n      <th>Houdt je van vernieuwing? (leefomgeving, mensen, werk, school, etc.)</th>\n      <th>Hoe onzeker ben jij, op schaal van 1 tot 5?</th>\n      <th>Vind je het eng/vervelend om in een groep aan het woord te zijn?</th>\n      <th>Hoe stress gevoelig ben je op schaal van 1 tot 5?2</th>\n    </tr>\n  </thead>\n  <tbody>\n    <tr>\n      <th>0</th>\n      <td>Man</td>\n      <td>nee</td>\n      <td>Links</td>\n      <td>whatsapp</td>\n      <td>3</td>\n      <td>Nee</td>\n      <td>1</td>\n      <td>6+</td>\n      <td>Speciaalbier</td>\n      <td>Ja</td>\n      <td>...</td>\n      <td>4</td>\n      <td>Aanwezig</td>\n      <td>Alleen</td>\n      <td>Matig</td>\n      <td>Erg nieuwsgierig</td>\n      <td>Zachtaardig</td>\n      <td>Ja</td>\n      <td>3</td>\n      <td>Nee</td>\n      <td>2</td>\n    </tr>\n    <tr>\n      <th>1</th>\n      <td>Vrouw</td>\n      <td>nee</td>\n      <td>Weet ik niet</td>\n      <td>whatsapp</td>\n      <td>3</td>\n      <td>Ja</td>\n      <td>2</td>\n      <td>0-3</td>\n      <td>Ik houd niet van bier</td>\n      <td>Nee</td>\n      <td>...</td>\n      <td>3</td>\n      <td>Matig</td>\n      <td>Alleen</td>\n      <td>Matig</td>\n      <td>Matig</td>\n      <td>Matig</td>\n      <td>Nee</td>\n      <td>4</td>\n      <td>Ja</td>\n      <td>3</td>\n    </tr>\n    <tr>\n      <th>2</th>\n      <td>Vrouw</td>\n      <td>nee</td>\n      <td>Rechts</td>\n      <td>instagram</td>\n      <td>5</td>\n      <td>Ja</td>\n      <td>0</td>\n      <td>0-3</td>\n      <td>Speciaalbier</td>\n      <td>Nee</td>\n      <td>...</td>\n      <td>5</td>\n      <td>Matig</td>\n      <td>Alleen</td>\n      <td>Gesloten</td>\n      <td>Erg nieuwsgierig</td>\n      <td>Fel</td>\n      <td>Nee</td>\n      <td>4</td>\n      <td>Ja</td>\n      <td>5</td>\n    </tr>\n    <tr>\n      <th>3</th>\n      <td>Vrouw</td>\n      <td>nee</td>\n      <td>Links</td>\n      <td>instagram</td>\n      <td>3</td>\n      <td>Ja</td>\n      <td>1</td>\n      <td>6+</td>\n      <td>Speciaalbier</td>\n      <td>Nee</td>\n      <td>...</td>\n      <td>3</td>\n      <td>Heel rustig</td>\n      <td>Tweetallen</td>\n      <td>Matig</td>\n      <td>Matig</td>\n      <td>Zachtaardig</td>\n      <td>Ja</td>\n      <td>4</td>\n      <td>Ja</td>\n      <td>3</td>\n    </tr>\n    <tr>\n      <th>4</th>\n      <td>Man</td>\n      <td>nee</td>\n      <td>Weet ik niet</td>\n      <td>instagram</td>\n      <td>3</td>\n      <td>Ja</td>\n      <td>0</td>\n      <td>6+</td>\n      <td>Speciaalbier</td>\n      <td>Ja</td>\n      <td>...</td>\n      <td>3</td>\n      <td>Aanwezig</td>\n      <td>Alleen</td>\n      <td>Erg open</td>\n      <td>Erg nieuwsgierig</td>\n      <td>Matig</td>\n      <td>Ja</td>\n      <td>3</td>\n      <td>Nee</td>\n      <td>2</td>\n    </tr>\n  </tbody>\n</table>\n<p>5 rows × 89 columns</p>\n</div>"
     },
     "execution_count": 1100,
     "metadata": {},
     "output_type": "execute_result"
    }
   ],
   "source": [
    "# drop all columns where more than 40 % of the answers are empty\n",
    "survey_pd = missing_values(survey_pd, 40)\n",
    "survey_pd.head()"
   ],
   "metadata": {
    "collapsed": false,
    "pycharm": {
     "name": "#%%\n"
    }
   }
  },
  {
   "cell_type": "markdown",
   "source": [
    "we still have 90 different questions. This is to much.\n",
    "we will look at the correlations between all the 90 columns.\n"
   ],
   "metadata": {
    "collapsed": false,
    "pycharm": {
     "name": "#%% md\n"
    }
   }
  },
  {
   "cell_type": "code",
   "execution_count": 1101,
   "outputs": [
    {
     "data": {
      "text/plain": "      1    2             3          4   5    6  7    8   \\\n0    Man  nee         Links   whatsapp   3  Nee  1   6+   \n1  Vrouw  nee  Weet ik niet   whatsapp   3   Ja  2  0-3   \n2  Vrouw  nee        Rechts  instagram   5   Ja  0  0-3   \n3  Vrouw  nee         Links  instagram   3   Ja  1   6+   \n4    Man  nee  Weet ik niet  instagram   3   Ja  0   6+   \n\n                      9    10  ... 80           81          82        83  \\\n0           Speciaalbier   Ja  ...  4     Aanwezig      Alleen     Matig   \n1  Ik houd niet van bier  Nee  ...  3        Matig      Alleen     Matig   \n2           Speciaalbier  Nee  ...  5        Matig      Alleen  Gesloten   \n3           Speciaalbier  Nee  ...  3  Heel rustig  Tweetallen     Matig   \n4           Speciaalbier   Ja  ...  3     Aanwezig      Alleen  Erg open   \n\n                 84           85   86 87   88  89  \n0  Erg nieuwsgierig  Zachtaardig   Ja  3  Nee   2  \n1             Matig        Matig  Nee  4   Ja   3  \n2  Erg nieuwsgierig          Fel  Nee  4   Ja   5  \n3             Matig  Zachtaardig   Ja  4   Ja   3  \n4  Erg nieuwsgierig        Matig   Ja  3  Nee   2  \n\n[5 rows x 89 columns]",
      "text/html": "<div>\n<style scoped>\n    .dataframe tbody tr th:only-of-type {\n        vertical-align: middle;\n    }\n\n    .dataframe tbody tr th {\n        vertical-align: top;\n    }\n\n    .dataframe thead th {\n        text-align: right;\n    }\n</style>\n<table border=\"1\" class=\"dataframe\">\n  <thead>\n    <tr style=\"text-align: right;\">\n      <th></th>\n      <th>1</th>\n      <th>2</th>\n      <th>3</th>\n      <th>4</th>\n      <th>5</th>\n      <th>6</th>\n      <th>7</th>\n      <th>8</th>\n      <th>9</th>\n      <th>10</th>\n      <th>...</th>\n      <th>80</th>\n      <th>81</th>\n      <th>82</th>\n      <th>83</th>\n      <th>84</th>\n      <th>85</th>\n      <th>86</th>\n      <th>87</th>\n      <th>88</th>\n      <th>89</th>\n    </tr>\n  </thead>\n  <tbody>\n    <tr>\n      <th>0</th>\n      <td>Man</td>\n      <td>nee</td>\n      <td>Links</td>\n      <td>whatsapp</td>\n      <td>3</td>\n      <td>Nee</td>\n      <td>1</td>\n      <td>6+</td>\n      <td>Speciaalbier</td>\n      <td>Ja</td>\n      <td>...</td>\n      <td>4</td>\n      <td>Aanwezig</td>\n      <td>Alleen</td>\n      <td>Matig</td>\n      <td>Erg nieuwsgierig</td>\n      <td>Zachtaardig</td>\n      <td>Ja</td>\n      <td>3</td>\n      <td>Nee</td>\n      <td>2</td>\n    </tr>\n    <tr>\n      <th>1</th>\n      <td>Vrouw</td>\n      <td>nee</td>\n      <td>Weet ik niet</td>\n      <td>whatsapp</td>\n      <td>3</td>\n      <td>Ja</td>\n      <td>2</td>\n      <td>0-3</td>\n      <td>Ik houd niet van bier</td>\n      <td>Nee</td>\n      <td>...</td>\n      <td>3</td>\n      <td>Matig</td>\n      <td>Alleen</td>\n      <td>Matig</td>\n      <td>Matig</td>\n      <td>Matig</td>\n      <td>Nee</td>\n      <td>4</td>\n      <td>Ja</td>\n      <td>3</td>\n    </tr>\n    <tr>\n      <th>2</th>\n      <td>Vrouw</td>\n      <td>nee</td>\n      <td>Rechts</td>\n      <td>instagram</td>\n      <td>5</td>\n      <td>Ja</td>\n      <td>0</td>\n      <td>0-3</td>\n      <td>Speciaalbier</td>\n      <td>Nee</td>\n      <td>...</td>\n      <td>5</td>\n      <td>Matig</td>\n      <td>Alleen</td>\n      <td>Gesloten</td>\n      <td>Erg nieuwsgierig</td>\n      <td>Fel</td>\n      <td>Nee</td>\n      <td>4</td>\n      <td>Ja</td>\n      <td>5</td>\n    </tr>\n    <tr>\n      <th>3</th>\n      <td>Vrouw</td>\n      <td>nee</td>\n      <td>Links</td>\n      <td>instagram</td>\n      <td>3</td>\n      <td>Ja</td>\n      <td>1</td>\n      <td>6+</td>\n      <td>Speciaalbier</td>\n      <td>Nee</td>\n      <td>...</td>\n      <td>3</td>\n      <td>Heel rustig</td>\n      <td>Tweetallen</td>\n      <td>Matig</td>\n      <td>Matig</td>\n      <td>Zachtaardig</td>\n      <td>Ja</td>\n      <td>4</td>\n      <td>Ja</td>\n      <td>3</td>\n    </tr>\n    <tr>\n      <th>4</th>\n      <td>Man</td>\n      <td>nee</td>\n      <td>Weet ik niet</td>\n      <td>instagram</td>\n      <td>3</td>\n      <td>Ja</td>\n      <td>0</td>\n      <td>6+</td>\n      <td>Speciaalbier</td>\n      <td>Ja</td>\n      <td>...</td>\n      <td>3</td>\n      <td>Aanwezig</td>\n      <td>Alleen</td>\n      <td>Erg open</td>\n      <td>Erg nieuwsgierig</td>\n      <td>Matig</td>\n      <td>Ja</td>\n      <td>3</td>\n      <td>Nee</td>\n      <td>2</td>\n    </tr>\n  </tbody>\n</table>\n<p>5 rows × 89 columns</p>\n</div>"
     },
     "execution_count": 1101,
     "metadata": {},
     "output_type": "execute_result"
    }
   ],
   "source": [
    "#first create an easy way to change beween the the question name and id's\n",
    "\n",
    "\n",
    "id_question = dict(enumerate(survey_pd.columns, 1))\n",
    "question_id = {v: k for k, v in id_question.items()}\n",
    "\n",
    "survey_pd = survey_pd\n",
    "survey_pd.columns = list(id_question)\n",
    "survey_pd.head()\n"
   ],
   "metadata": {
    "collapsed": false,
    "pycharm": {
     "name": "#%%\n"
    }
   }
  },
  {
   "cell_type": "code",
   "execution_count": 1101,
   "outputs": [],
   "source": [],
   "metadata": {
    "collapsed": false,
    "pycharm": {
     "name": "#%%\n"
    }
   }
  },
  {
   "cell_type": "markdown",
   "source": [
    "we have to one hot encode a lot of columns to see the correlations.\n",
    "To limit the amount of columns we only create dummies for a value if it occurs in more than 10 % of the rows else it will be deleted"
   ],
   "metadata": {
    "collapsed": false,
    "pycharm": {
     "name": "#%% md\n"
    }
   }
  },
  {
   "cell_type": "code",
   "execution_count": 1102,
   "outputs": [],
   "source": [
    "numerics = ['int16', 'int32', 'int64', 'float16', 'float32', 'float64']\n",
    "numeric_values_pd = survey_pd.select_dtypes(include=numerics)\n",
    "stringed_values_pd =  survey_pd.select_dtypes(exclude=numerics)\n",
    "stringed_values_pd = pd.get_dummies(stringed_values_pd)"
   ],
   "metadata": {
    "collapsed": false,
    "pycharm": {
     "name": "#%%\n"
    }
   }
  },
  {
   "cell_type": "code",
   "execution_count": 1103,
   "outputs": [],
   "source": [
    "def remove_dummies(df, treshold):\n",
    "\n",
    "    columns = df.columns\n",
    "    occurrence_count = df.apply(pd.Series.value_counts)\n",
    "    occurrence = occurrence_count.apply(lambda x: (x[1] / (x[0]+x[1])) * 100, axis=0)\n",
    "    to_low_df = pd.DataFrame({'column_name': columns,\n",
    "                                 'occurrence': occurrence})\n",
    "\n",
    "    missing_drop = list(to_low_df[to_low_df.occurrence<treshold].column_name)\n",
    "    df = df.drop(missing_drop, axis=1)\n",
    "    return df\n"
   ],
   "metadata": {
    "collapsed": false,
    "pycharm": {
     "name": "#%%\n"
    }
   }
  },
  {
   "cell_type": "code",
   "execution_count": 1104,
   "outputs": [],
   "source": [
    "stringed_values_pd = stringed_values_pd.groupby(lambda x:x, axis=1).sum()\n",
    "stringed_values_pd = remove_dummies(stringed_values_pd, 10)"
   ],
   "metadata": {
    "collapsed": false,
    "pycharm": {
     "name": "#%%\n"
    }
   }
  },
  {
   "cell_type": "code",
   "execution_count": 1105,
   "outputs": [],
   "source": [
    "colmun_value = [c.split('_') for c in list(stringed_values_pd.columns)]"
   ],
   "metadata": {
    "collapsed": false,
    "pycharm": {
     "name": "#%%\n"
    }
   }
  },
  {
   "cell_type": "code",
   "execution_count": 1106,
   "outputs": [],
   "source": [
    "def get_numeric_columns(c_v):\n",
    "    cols = set()\n",
    "    #create set of unique columns\n",
    "    for c in c_v:\n",
    "        cols.add(c[0])\n",
    "    is_numeric = [[i, True] for i in list(cols)]\n",
    "\n",
    "    for c in c_v:\n",
    "        if not c[1].isnumeric():\n",
    "            for num in is_numeric:\n",
    "                if num[0] == c[0]:\n",
    "                    num[1] = False\n",
    "    numeric = [c[0] for c in is_numeric if c[1]]\n",
    "    return numeric"
   ],
   "metadata": {
    "collapsed": false,
    "pycharm": {
     "name": "#%%\n"
    }
   }
  },
  {
   "cell_type": "code",
   "execution_count": 1107,
   "outputs": [],
   "source": [
    "numerics = get_numeric_columns(colmun_value)"
   ],
   "metadata": {
    "collapsed": false,
    "pycharm": {
     "name": "#%%\n"
    }
   }
  },
  {
   "cell_type": "code",
   "execution_count": 1108,
   "outputs": [],
   "source": [
    "def merge_col(cols):\n",
    "    col_val = [c.split('_') for c in list(cols.index)]\n",
    "    # print(col_val)\n",
    "    col_value = -1\n",
    "    for idx, col in enumerate(cols):\n",
    "        if col == 1:\n",
    "            col_value = col_val[idx][1]\n",
    "    return col_value\n",
    "\n",
    "\n",
    "def merge_numeric(df, numerics):\n",
    "    num_df = pd.DataFrame()\n",
    "    for num in numerics:\n",
    "        num_col = [col for col in df if col.startswith(num)]\n",
    "        num_df[num] = df[num_col].apply(lambda x: merge_col(x), axis=1)\n",
    "    return num_df"
   ],
   "metadata": {
    "collapsed": false,
    "pycharm": {
     "name": "#%%\n"
    }
   }
  },
  {
   "cell_type": "code",
   "execution_count": 1109,
   "outputs": [],
   "source": [
    "also_numeric_pd = merge_numeric(stringed_values_pd, numerics)"
   ],
   "metadata": {
    "collapsed": false,
    "pycharm": {
     "name": "#%%\n"
    }
   }
  },
  {
   "cell_type": "code",
   "execution_count": 1110,
   "outputs": [],
   "source": [
    "for num in numerics:\n",
    "    stringed_values_pd = stringed_values_pd.loc[:,~stringed_values_pd.columns.str.startswith(num)]\n",
    "\n"
   ],
   "metadata": {
    "collapsed": false,
    "pycharm": {
     "name": "#%%\n"
    }
   }
  },
  {
   "cell_type": "code",
   "execution_count": 1111,
   "outputs": [
    {
     "data": {
      "text/plain": "<matplotlib.axes._subplots.AxesSubplot at 0x7f13216b1af0>"
     },
     "execution_count": 1111,
     "metadata": {},
     "output_type": "execute_result"
    },
    {
     "data": {
      "text/plain": "<Figure size 432x288 with 1 Axes>",
      "image/png": "[encoded data removed]"
     },
     "metadata": {},
     "output_type": "display_data"
    }
   ],
   "source": [
    "survey_pd = pd.concat([stringed_values_pd, numeric_values_pd, also_numeric_pd], axis=1)\n",
    "\n",
    "corr_matrix = survey_pd.corr()\n",
    "\n",
    "vals = corr_matrix.abs().sum()\n",
    "\n",
    "vals.plot.kde()\n"
   ],
   "metadata": {
    "collapsed": false,
    "pycharm": {
     "name": "#%%\n"
    }
   }
  },
  {
   "cell_type": "markdown",
   "source": [
    "what are those features with 17.5+ correlation"
   ],
   "metadata": {
    "collapsed": false
   }
  },
  {
   "cell_type": "code",
   "execution_count": 1112,
   "outputs": [
    {
     "name": "stdout",
     "output_type": "stream",
     "text": [
      "26_Ja\n",
      "26_Nee\n",
      "34_Ja\n",
      "34_Nee\n",
      "36_Nee\n",
      "3_Weet ik niet\n",
      "56_N.v.t.\n",
      "57_N.v.t.\n",
      "58_Ja\n",
      "58_N.v.t.\n",
      "88_Ja\n",
      "87\n",
      "89\n"
     ]
    }
   ],
   "source": [
    "for i, v in vals.iteritems():\n",
    "    if v >= 17.5:\n",
    "        print(i)"
   ],
   "metadata": {
    "collapsed": false,
    "pycharm": {
     "name": "#%%\n"
    }
   }
  }
 ],
 "metadata": {
  "kernelspec": {
   "display_name": "Python 3",
   "language": "python",
   "name": "python3"
  },
  "language_info": {
   "codemirror_mode": {
    "name": "ipython",
    "version": 2
   },
   "file_extension": ".py",
   "mimetype": "text/x-python",
   "name": "python",
   "nbconvert_exporter": "python",
   "pygments_lexer": "ipython2",
   "version": "2.7.6"
  }
 },
 "nbformat": 4,
 "nbformat_minor": 0
}